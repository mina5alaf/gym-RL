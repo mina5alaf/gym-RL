{
 "cells": [
  {
   "cell_type": "code",
   "execution_count": 60,
   "metadata": {},
   "outputs": [],
   "source": [
    "import gym\n",
    "from IPython.display import clear_output\n",
    "from time import sleep\n",
    "import numpy as np\n",
    "import random\n",
    "import itertools\n",
    "#from numba import njit, cuda\n"
   ]
  },
  {
   "cell_type": "markdown",
   "metadata": {},
   "source": [
    "# Functions"
   ]
  },
  {
   "cell_type": "code",
   "execution_count": 61,
   "metadata": {},
   "outputs": [],
   "source": [
    "def env_render(env_name,env_version):\n",
    "    env = env_name.make(env_version).env\n",
    "    env.render()\n",
    "    env.reset()  # reset environment to a new, random state\n",
    "    env.render()\n",
    "    print(\"Action Space {}\".format(env.action_space))\n",
    "    print(\"State Space {}\".format(env.observation_space))\n",
    "    return env\n"
   ]
  },
  {
   "cell_type": "code",
   "execution_count": 62,
   "metadata": {},
   "outputs": [],
   "source": [
    "def Solve_without_RL(env):\n",
    "    env.s = 328  # set environment to illustration's state\n",
    "    epochs = 0\n",
    "    penalties, reward = 0, 0\n",
    "    frames = []  # for animation\n",
    "    done = False\n",
    "    while not done:\n",
    "        action = env.action_space.sample()\n",
    "        state, reward, done, info = env.step(action)\n",
    "        if reward == -10:\n",
    "            penalties += 1\n",
    "        # Put each rendered frame into dict for animation\n",
    "        frames.append({\n",
    "            'frame': env.render(mode='ansi'),\n",
    "            'state': state,\n",
    "            'action': action,\n",
    "            'reward': reward\n",
    "        }\n",
    "        )\n",
    "        epochs += 1\n",
    "    print(\"Timesteps taken: {}\".format(epochs))\n",
    "    print(\"Penalties incurred: {}\".format(penalties))\n",
    "    return frames\n"
   ]
  },
  {
   "cell_type": "code",
   "execution_count": 63,
   "metadata": {},
   "outputs": [],
   "source": [
    "def print_frames(frames):\n",
    "    for i, frame in enumerate(frames):\n",
    "        clear_output(wait=True)\n",
    "        print(frame['frame'])\n",
    "        print(f\"Timestep: {i + 1}\")\n",
    "        print(f\"State: {frame['state']}\")\n",
    "        print(f\"Action: {frame['action']}\")\n",
    "        print(f\"Reward: {frame['reward']}\")\n",
    "        sleep(.1)"
   ]
  },
  {
   "cell_type": "code",
   "execution_count": null,
   "metadata": {},
   "outputs": [],
   "source": [
    "def q_learning(env,alpha,gamma,epsilon,episodes):\n",
    "    q_table = np.zeros([env.observation_space.n, env.action_space.n])\n",
    "    # For plotting metrics\n",
    "    all_epochs = []\n",
    "    all_penalties = []\n",
    "    \n",
    "    for i in range(1, episodes):\n",
    "        state = env.reset()\n",
    "        epochs, penalties, reward, = 0, 0, 0\n",
    "        done = False\n",
    "\n",
    "        while not done:\n",
    "            if random.uniform(0, 1) < epsilon:\n",
    "                action = env.action_space.sample()  # Explore action space\n",
    "            else:\n",
    "                action = np.argmax(q_table[state])  # Exploit learned values\n",
    "\n",
    "            next_state, reward, done, info = env.step(action)\n",
    "\n",
    "            old_value = q_table[state, action]\n",
    "            next_max = np.max(q_table[next_state])\n",
    "\n",
    "            new_value = (1 - alpha) * old_value + alpha * \\\n",
    "                (reward + gamma * next_max)\n",
    "            q_table[state, action] = new_value\n",
    "\n",
    "            if reward == -10:\n",
    "                penalties += 1\n",
    "\n",
    "            state = next_state\n",
    "            epochs += 1\n",
    "\n",
    "        #if i % 100 == 0:\n",
    "         #   clear_output(wait=True)\n",
    "            #print(f\"Episode: {i}\")\n",
    "\n",
    "    #print(\"Training finished.\\n\")\n",
    "    return q_table\n"
   ]
  },
  {
   "cell_type": "code",
   "execution_count": 65,
   "metadata": {},
   "outputs": [],
   "source": [
    "#@njit\n",
    "def test_q_learning(env, q_table,episodes):\n",
    "    total_epochs, total_penalties, total_rewards = 0, 0, 0\n",
    "\n",
    "    for _ in range(episodes):\n",
    "        state = env.reset()\n",
    "        epochs, penalties, reward = 0, 0, 0\n",
    "\n",
    "        done = False\n",
    "\n",
    "        while not done:\n",
    "            action = np.argmax(q_table[state])\n",
    "            state, reward, done, info = env.step(action)\n",
    "\n",
    "            if reward == -10:\n",
    "                penalties += 1\n",
    "\n",
    "            epochs += 1\n",
    "        total_rewards += reward\n",
    "        total_penalties += penalties\n",
    "        total_epochs += epochs\n",
    "\n",
    "    #print(f\"Results after {episodes} episodes:\")\n",
    "    #print(f\"Average timesteps per episode: {total_epochs / episodes}\")\n",
    "    #print(f\"Average penalties per episode: {total_penalties / episodes}\")\n",
    "    return (total_rewards/total_epochs)\n"
   ]
  },
  {
   "cell_type": "code",
   "execution_count": 145,
   "metadata": {},
   "outputs": [],
   "source": [
    "#@njit\n",
    "def decay_q_learning(env,alpha,gamma,epsilon,episodes):\n",
    "    q_table = np.zeros([env.observation_space.n, env.action_space.n])\n",
    "    decay = 0.5\n",
    "    min_epsilon = 0.1\n",
    "    min_gamma = 0.4\n",
    "    # For plotting metrics\n",
    "    all_epochs = []\n",
    "    all_penalties = []\n",
    "    \n",
    "    for i in range(1, episodes):\n",
    "        state = env.reset()\n",
    "        epochs, penalties, reward, = 0, 0, 0\n",
    "        done = False\n",
    "\n",
    "        while not done:\n",
    "            if random.uniform(0, 1) < epsilon:\n",
    "                action = env.action_space.sample()  # Explore action space\n",
    "            else:\n",
    "                action = np.argmax(q_table[state])  # Exploit learned values\n",
    "\n",
    "            next_state, reward, done, info = env.step(action)\n",
    "\n",
    "            old_value = q_table[state, action]\n",
    "            next_max = np.max(q_table[next_state])\n",
    "\n",
    "            new_value = (1 - alpha) * old_value + alpha * \\\n",
    "                (reward + gamma * next_max)\n",
    "            q_table[state, action] = new_value\n",
    "\n",
    "            if reward == -10:\n",
    "                penalties += 1\n",
    "\n",
    "            state = next_state\n",
    "            epochs += 1\n",
    "\n",
    "        if i % 1000 == 0:\n",
    "            clear_output(wait=True)\n",
    "            print(f\"Episode: {i}\")\n",
    "            alpha = alpha*0.5\n",
    "            gamma = max(min_gamma,gamma*decay)\n",
    "            epsilon = max(min_epsilon,epsilon*decay)\n",
    "\n",
    "    #print(\"Training finished.\\n\")\n",
    "    return q_table\n"
   ]
  },
  {
   "cell_type": "code",
   "execution_count": 137,
   "metadata": {},
   "outputs": [],
   "source": [
    "#@njit\n",
    "def GridSearch(env,hyperparametersgrid):\n",
    "    count = 1\n",
    "    alpha, gamma, epsilon = 0, 0, 0\n",
    "    rew, values = [],[]\n",
    "    for i in hyperparametersgrid:\n",
    "        alpha = round(i[0], 1)\n",
    "        gamma = round(i[1], 1)\n",
    "        epsilon = round(i[2], 1)\n",
    "        print(\"-\"*10 + \"training and testing of model {} Running\".format(count) + \"-\"*10)\n",
    "        q_values = q_learning(env, alpha, gamma, epsilon,100001)\n",
    "        value = test_q_learning(env, q_values, 100)\n",
    "        values.append(value)\n",
    "        print(\"-\"*10 + \"training and testing of model {} Finished\".format(count) + \"-\"*10)\n",
    "        count += 1\n",
    "    return np.array(values)\n"
   ]
  },
  {
   "cell_type": "markdown",
   "metadata": {},
   "source": [
    "# Main"
   ]
  },
  {
   "cell_type": "code",
   "execution_count": 138,
   "metadata": {},
   "outputs": [
    {
     "name": "stdout",
     "output_type": "stream",
     "text": [
      "Action Space Discrete(6)\n",
      "State Space Discrete(500)\n",
      "Timesteps taken: 5524\n",
      "Penalties incurred: 1817\n"
     ]
    }
   ],
   "source": [
    "env = env_render(gym,\"Taxi-v3\")\n",
    "frames = Solve_without_RL(env)\n",
    "#print_frames(frames)"
   ]
  },
  {
   "cell_type": "code",
   "execution_count": 146,
   "metadata": {},
   "outputs": [],
   "source": [
    "q_table = q_learning(env,0.7,0.8,0.4,100001)"
   ]
  },
  {
   "cell_type": "code",
   "execution_count": 147,
   "metadata": {},
   "outputs": [
    {
     "data": {
      "text/plain": [
       "1.524390243902439"
      ]
     },
     "execution_count": 147,
     "metadata": {},
     "output_type": "execute_result"
    }
   ],
   "source": [
    "test_q_learning(env,q_table,100)"
   ]
  },
  {
   "cell_type": "code",
   "execution_count": 11,
   "metadata": {},
   "outputs": [
    {
     "data": {
      "text/plain": [
       "54"
      ]
     },
     "execution_count": 11,
     "metadata": {},
     "output_type": "execute_result"
    }
   ],
   "source": [
    "alpha_li = np.arange(0.1, 1.0, 0.3)\n",
    "gamma_li = np.arange(0.4, 1.0, 0.1)\n",
    "epsilon_li = np.arange(0.1, 1.0, 0.3)\n",
    "\n",
    "c = tuple(itertools.product(alpha_li, gamma_li, epsilon_li))\n",
    "len(c)\n"
   ]
  },
  {
   "cell_type": "code",
   "execution_count": 12,
   "metadata": {},
   "outputs": [
    {
     "name": "stdout",
     "output_type": "stream",
     "text": [
      "----------training and testing of model 1 Running----------\n",
      "----------training and testing of model 1 Finished----------\n",
      "----------training and testing of model 2 Running----------\n",
      "----------training and testing of model 2 Finished----------\n",
      "----------training and testing of model 3 Running----------\n",
      "----------training and testing of model 3 Finished----------\n",
      "----------training and testing of model 4 Running----------\n",
      "----------training and testing of model 4 Finished----------\n",
      "----------training and testing of model 5 Running----------\n",
      "----------training and testing of model 5 Finished----------\n",
      "----------training and testing of model 6 Running----------\n",
      "----------training and testing of model 6 Finished----------\n",
      "----------training and testing of model 7 Running----------\n",
      "----------training and testing of model 7 Finished----------\n",
      "----------training and testing of model 8 Running----------\n",
      "----------training and testing of model 8 Finished----------\n",
      "----------training and testing of model 9 Running----------\n",
      "----------training and testing of model 9 Finished----------\n",
      "----------training and testing of model 10 Running----------\n",
      "----------training and testing of model 10 Finished----------\n",
      "----------training and testing of model 11 Running----------\n",
      "----------training and testing of model 11 Finished----------\n",
      "----------training and testing of model 12 Running----------\n",
      "----------training and testing of model 12 Finished----------\n",
      "----------training and testing of model 13 Running----------\n",
      "----------training and testing of model 13 Finished----------\n",
      "----------training and testing of model 14 Running----------\n",
      "----------training and testing of model 14 Finished----------\n",
      "----------training and testing of model 15 Running----------\n",
      "----------training and testing of model 15 Finished----------\n",
      "----------training and testing of model 16 Running----------\n",
      "----------training and testing of model 16 Finished----------\n",
      "----------training and testing of model 17 Running----------\n",
      "----------training and testing of model 17 Finished----------\n",
      "----------training and testing of model 18 Running----------\n",
      "----------training and testing of model 18 Finished----------\n",
      "----------training and testing of model 19 Running----------\n",
      "----------training and testing of model 19 Finished----------\n",
      "----------training and testing of model 20 Running----------\n",
      "----------training and testing of model 20 Finished----------\n",
      "----------training and testing of model 21 Running----------\n",
      "----------training and testing of model 21 Finished----------\n",
      "----------training and testing of model 22 Running----------\n",
      "----------training and testing of model 22 Finished----------\n",
      "----------training and testing of model 23 Running----------\n",
      "----------training and testing of model 23 Finished----------\n",
      "----------training and testing of model 24 Running----------\n",
      "----------training and testing of model 24 Finished----------\n",
      "----------training and testing of model 25 Running----------\n",
      "----------training and testing of model 25 Finished----------\n",
      "----------training and testing of model 26 Running----------\n",
      "----------training and testing of model 26 Finished----------\n",
      "----------training and testing of model 27 Running----------\n",
      "----------training and testing of model 27 Finished----------\n",
      "----------training and testing of model 28 Running----------\n",
      "----------training and testing of model 28 Finished----------\n",
      "----------training and testing of model 29 Running----------\n",
      "----------training and testing of model 29 Finished----------\n",
      "----------training and testing of model 30 Running----------\n",
      "----------training and testing of model 30 Finished----------\n",
      "----------training and testing of model 31 Running----------\n",
      "----------training and testing of model 31 Finished----------\n",
      "----------training and testing of model 32 Running----------\n",
      "----------training and testing of model 32 Finished----------\n",
      "----------training and testing of model 33 Running----------\n",
      "----------training and testing of model 33 Finished----------\n",
      "----------training and testing of model 34 Running----------\n",
      "----------training and testing of model 34 Finished----------\n",
      "----------training and testing of model 35 Running----------\n",
      "----------training and testing of model 35 Finished----------\n",
      "----------training and testing of model 36 Running----------\n",
      "----------training and testing of model 36 Finished----------\n",
      "----------training and testing of model 37 Running----------\n",
      "----------training and testing of model 37 Finished----------\n",
      "----------training and testing of model 38 Running----------\n",
      "----------training and testing of model 38 Finished----------\n",
      "----------training and testing of model 39 Running----------\n",
      "----------training and testing of model 39 Finished----------\n",
      "----------training and testing of model 40 Running----------\n",
      "----------training and testing of model 40 Finished----------\n",
      "----------training and testing of model 41 Running----------\n",
      "----------training and testing of model 41 Finished----------\n",
      "----------training and testing of model 42 Running----------\n",
      "----------training and testing of model 42 Finished----------\n",
      "----------training and testing of model 43 Running----------\n",
      "----------training and testing of model 43 Finished----------\n",
      "----------training and testing of model 44 Running----------\n",
      "----------training and testing of model 44 Finished----------\n",
      "----------training and testing of model 45 Running----------\n",
      "----------training and testing of model 45 Finished----------\n",
      "----------training and testing of model 46 Running----------\n",
      "----------training and testing of model 46 Finished----------\n",
      "----------training and testing of model 47 Running----------\n",
      "----------training and testing of model 47 Finished----------\n",
      "----------training and testing of model 48 Running----------\n",
      "----------training and testing of model 48 Finished----------\n",
      "----------training and testing of model 49 Running----------\n",
      "----------training and testing of model 49 Finished----------\n",
      "----------training and testing of model 50 Running----------\n",
      "----------training and testing of model 50 Finished----------\n",
      "----------training and testing of model 51 Running----------\n",
      "----------training and testing of model 51 Finished----------\n",
      "----------training and testing of model 52 Running----------\n",
      "----------training and testing of model 52 Finished----------\n",
      "----------training and testing of model 53 Running----------\n",
      "----------training and testing of model 53 Finished----------\n",
      "----------training and testing of model 54 Running----------\n",
      "----------training and testing of model 54 Finished----------\n",
      "Highest Reward/Timestep ratio: 1.6051364365971108\n",
      "Best HyperParameters:(\n",
      " alpha: 0.7, \n",
      " Gamma: 0.8, \n",
      " Epsilon: 0.4)\n"
     ]
    }
   ],
   "source": [
    "import warnings\n",
    "warnings.filterwarnings('ignore')\n",
    "\n",
    "scores = GridSearch(env,c)\n",
    "ind = scores.argmax()\n",
    "print(\"Highest Reward/Timestep ratio: {}\".format(scores[ind]))\n",
    "print(\"Best HyperParameters:(\\n alpha: {}, \\n Gamma: {}, \\n Epsilon: {})\"\n",
    "      .format(round(c[ind][0], 1), round(c[ind][1], 1), round(c[ind][2], 1)))\n"
   ]
  },
  {
   "cell_type": "code",
   "execution_count": 13,
   "metadata": {},
   "outputs": [],
   "source": [
    "ind = scores.argmax()\n"
   ]
  },
  {
   "cell_type": "code",
   "execution_count": 14,
   "metadata": {},
   "outputs": [
    {
     "name": "stdout",
     "output_type": "stream",
     "text": [
      "Best HyperParameters:(\n",
      " alpha: 0.7, \n",
      " Gamma: 0.8, \n",
      " Epsilon: 0.4)\n"
     ]
    }
   ],
   "source": [
    "print(\"Best HyperParameters:(\\n alpha: {}, \\n Gamma: {}, \\n Epsilon: {})\"\n",
    "      .format(round(c[ind][0], 1), round(c[ind][1], 1), round(c[ind][2], 1)))\n"
   ]
  },
  {
   "cell_type": "code",
   "execution_count": 18,
   "metadata": {},
   "outputs": [
    {
     "data": {
      "text/plain": [
       "array([1.53846154, 1.54320988, 1.51745068, 1.57728707, 1.52671756,\n",
       "       1.53374233, 1.53491942, 1.53609831, 1.47275405, 1.55520995,\n",
       "       1.51860289, 1.5037594 , 1.55279503, 1.49031297, 1.54679041,\n",
       "       1.49812734, 1.55884645, 1.49476831, 1.47601476, 1.51630023,\n",
       "       1.50715901, 1.49588631, 1.46735143, 1.52091255, 1.54083205,\n",
       "       1.59235669, 1.55400155, 1.53964588, 1.52091255, 1.53256705,\n",
       "       1.53846154, 1.53256705, 1.5503876 , 1.52788388, 1.54202005,\n",
       "       1.52788388, 1.53964588, 1.45454545, 1.56739812, 1.53022188,\n",
       "       1.50715901, 1.54918668, 1.57232704, 1.52788388, 1.52439024,\n",
       "       1.51745068, 1.53022188, 1.53964588, 1.53491942, 1.60513644,\n",
       "       1.53609831, 1.52439024, 1.52207002, 1.55520995])"
      ]
     },
     "execution_count": 18,
     "metadata": {},
     "output_type": "execute_result"
    }
   ],
   "source": [
    "scores"
   ]
  },
  {
   "cell_type": "code",
   "execution_count": null,
   "metadata": {},
   "outputs": [],
   "source": []
  }
 ],
 "metadata": {
  "interpreter": {
   "hash": "b09ec625f77bf4fd762565a912b97636504ad6ec901eb2d0f4cf5a7de23e1ee5"
  },
  "kernelspec": {
   "display_name": "Python 3.8.8 ('base')",
   "language": "python",
   "name": "python3"
  },
  "language_info": {
   "codemirror_mode": {
    "name": "ipython",
    "version": 3
   },
   "file_extension": ".py",
   "mimetype": "text/x-python",
   "name": "python",
   "nbconvert_exporter": "python",
   "pygments_lexer": "ipython3",
   "version": "3.8.8"
  },
  "orig_nbformat": 4
 },
 "nbformat": 4,
 "nbformat_minor": 2
}
